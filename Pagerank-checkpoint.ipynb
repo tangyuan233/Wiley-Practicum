{
 "cells": [
  {
   "cell_type": "code",
   "execution_count": 1,
   "metadata": {},
   "outputs": [],
   "source": [
    "import os\n",
    "import csv\n",
    "import numpy as np\n",
    "import pandas as pd\n",
    "import networkx as nx\n",
    "from networkx.algorithms import community"
   ]
  },
  {
   "cell_type": "code",
   "execution_count": 2,
   "metadata": {},
   "outputs": [],
   "source": [
    "data = pd.read_csv('data.csv',engine='python')"
   ]
  },
  {
   "cell_type": "code",
   "execution_count": 3,
   "metadata": {
    "scrolled": false
   },
   "outputs": [
    {
     "data": {
      "text/plain": [
       "(425753, 29)"
      ]
     },
     "execution_count": 3,
     "metadata": {},
     "output_type": "execute_result"
    }
   ],
   "source": [
    "data.shape"
   ]
  },
  {
   "cell_type": "code",
   "execution_count": 5,
   "metadata": {},
   "outputs": [],
   "source": [
    "# Use pagerank algorithm to find important authors\n",
    "df=data[(data['Year Published']==2000)]\n",
    "G=nx.DiGraph()   \n",
    "G.add_nodes_from(df.Author)\n",
    "G.nodes()\n",
    "G.add_node('None')\n",
    "subset = df[['CA','Author']]\n",
    "tuples = [tuple(x) for x in subset.values] \n",
    "G.add_edges_from(tuples)\n",
    "G.number_of_edges()\n",
    "pg = nx.pagerank(G)\n",
    "rank = pd.DataFrame.from_dict(pg,orient='index')\n",
    "rank['Author Rank'] = pd.DataFrame.from_dict(pg,orient='index')\n",
    "rank['Author'] = rank.index\n",
    "rank = rank[['Author Rank','Author']]\n",
    "page = pd.merge(df,rank,on=['Author'])"
   ]
  },
  {
   "cell_type": "code",
   "execution_count": 6,
   "metadata": {},
   "outputs": [
    {
     "data": {
      "text/plain": [
       "(5233, 30)"
      ]
     },
     "execution_count": 6,
     "metadata": {},
     "output_type": "execute_result"
    }
   ],
   "source": [
    "page.shape"
   ]
  },
  {
   "cell_type": "code",
   "execution_count": 7,
   "metadata": {},
   "outputs": [],
   "source": [
    "n = 2001\n",
    "for item in data:\n",
    "    if n != 2019:\n",
    "        df=data[(data['Year Published']==n)]\n",
    "        G=nx.DiGraph()   \n",
    "        G.add_nodes_from(df.Author)\n",
    "        G.nodes()\n",
    "        G.add_node('None')\n",
    "        subset = df[['CA','Author']]\n",
    "        tuples = [tuple(x) for x in subset.values] \n",
    "        G.add_edges_from(tuples)\n",
    "        G.number_of_edges()\n",
    "        pg = nx.pagerank(G)\n",
    "        rank = pd.DataFrame.from_dict(pg,orient='index')\n",
    "        rank['Author Rank'] = pd.DataFrame.from_dict(pg,orient='index')\n",
    "        rank['Author'] = rank.index\n",
    "        rank = rank[['Author Rank','Author']]\n",
    "        pr = pd.merge(df,rank,on=['Author'])\n",
    "        n = n + 1\n",
    "        page = pd.concat([page,pr])\n",
    "    else:\n",
    "        break"
   ]
  },
  {
   "cell_type": "code",
   "execution_count": 8,
   "metadata": {},
   "outputs": [
    {
     "data": {
      "text/plain": [
       "(399368, 30)"
      ]
     },
     "execution_count": 8,
     "metadata": {},
     "output_type": "execute_result"
    }
   ],
   "source": [
    "page.head()\n",
    "page.shape"
   ]
  },
  {
   "cell_type": "code",
   "execution_count": 9,
   "metadata": {},
   "outputs": [],
   "source": [
    "#Use pagerank algorithm to find important publisher\n",
    "df=page[(page['Year Published']==2000)]\n",
    "G=nx.DiGraph()   \n",
    "G.add_nodes_from(df.Author)\n",
    "G.nodes()\n",
    "G.add_node('None')\n",
    "subset = df[['Publisher','Author']]\n",
    "tuples = [tuple(x) for x in subset.values] \n",
    "G.add_edges_from(tuples)\n",
    "G.number_of_edges()\n",
    "pg = nx.pagerank(G)\n",
    "rank = pd.DataFrame.from_dict(pg,orient='index')\n",
    "rank['Publisher Rank'] = pd.DataFrame.from_dict(pg,orient='index')\n",
    "rank['Author'] = rank.index\n",
    "rank = rank[['Publisher Rank','Author']]\n",
    "pagerank = pd.merge(df,rank,on=['Author'])"
   ]
  },
  {
   "cell_type": "code",
   "execution_count": 10,
   "metadata": {},
   "outputs": [],
   "source": [
    "n = 2001\n",
    "for item in data:\n",
    "    if n != 2019:\n",
    "        df=page[(page['Year Published']==n)]\n",
    "        G=nx.DiGraph()   \n",
    "        G.add_nodes_from(df.Author)\n",
    "        G.nodes()\n",
    "        G.add_node('None')\n",
    "        subset = df[['Publisher','Author']]\n",
    "        tuples = [tuple(x) for x in subset.values] \n",
    "        G.add_edges_from(tuples)\n",
    "        G.number_of_edges()\n",
    "        pg = nx.pagerank(G)\n",
    "        rank = pd.DataFrame.from_dict(pg,orient='index')\n",
    "        rank['Publisher Rank'] = pd.DataFrame.from_dict(pg,orient='index')\n",
    "        rank['Author'] = rank.index\n",
    "        rank = rank[['Publisher Rank','Author']]\n",
    "        pr = pd.merge(df,rank,on=['Author'])\n",
    "        n = n + 1\n",
    "        pagerank = pd.concat([pagerank,pr])\n",
    "    else:\n",
    "        break"
   ]
  },
  {
   "cell_type": "code",
   "execution_count": 11,
   "metadata": {},
   "outputs": [],
   "source": [
    "pagerank.to_csv('pagerank.csv', encoding='utf-8', index=False)"
   ]
  },
  {
   "cell_type": "code",
   "execution_count": null,
   "metadata": {},
   "outputs": [],
   "source": []
  }
 ],
 "metadata": {
  "kernelspec": {
   "display_name": "Python 3",
   "language": "python",
   "name": "python3"
  },
  "language_info": {
   "codemirror_mode": {
    "name": "ipython",
    "version": 3
   },
   "file_extension": ".py",
   "mimetype": "text/x-python",
   "name": "python",
   "nbconvert_exporter": "python",
   "pygments_lexer": "ipython3",
   "version": "3.7.3"
  }
 },
 "nbformat": 4,
 "nbformat_minor": 2
}
